{
 "cells": [
  {
   "cell_type": "markdown",
   "id": "3274e7ac-05a8-4b67-b1aa-1b0cd5d2bcd3",
   "metadata": {},
   "source": [
    "# Imported Libraries"
   ]
  },
  {
   "cell_type": "code",
   "execution_count": 1,
   "id": "60e70712-ad72-46a5-88bd-59e54d2ead7e",
   "metadata": {},
   "outputs": [],
   "source": [
    "import pandas as pd\n",
    "import numpy as np\n",
    "import os\n",
    "import re"
   ]
  },
  {
   "cell_type": "code",
   "execution_count": 2,
   "id": "d8ca3cdb-117f-4e38-a462-279f31d6d871",
   "metadata": {},
   "outputs": [],
   "source": [
    "os.chdir(\"C:/Jupyter_Projects/Audible_Project\")\n",
    "cwd = os.getcwd()"
   ]
  },
  {
   "cell_type": "code",
   "execution_count": 3,
   "id": "a20ab8c7-972f-46e5-9cfe-61757d6af1c6",
   "metadata": {},
   "outputs": [],
   "source": [
    "df = pd.read_csv('audible_uncleaned.csv')"
   ]
  },
  {
   "cell_type": "markdown",
   "id": "6b4cd6d5-0743-49e4-9d2f-bd2c002ae7bc",
   "metadata": {},
   "source": [
    "# Data Exploration"
   ]
  },
  {
   "cell_type": "code",
   "execution_count": 4,
   "id": "25c6f3a6-4df5-4ad9-b78d-eb1c8e10f2c6",
   "metadata": {},
   "outputs": [
    {
     "data": {
      "text/html": [
       "<div>\n",
       "<style scoped>\n",
       "    .dataframe tbody tr th:only-of-type {\n",
       "        vertical-align: middle;\n",
       "    }\n",
       "\n",
       "    .dataframe tbody tr th {\n",
       "        vertical-align: top;\n",
       "    }\n",
       "\n",
       "    .dataframe thead th {\n",
       "        text-align: right;\n",
       "    }\n",
       "</style>\n",
       "<table border=\"1\" class=\"dataframe\">\n",
       "  <thead>\n",
       "    <tr style=\"text-align: right;\">\n",
       "      <th></th>\n",
       "      <th>name</th>\n",
       "      <th>author</th>\n",
       "      <th>narrator</th>\n",
       "      <th>time</th>\n",
       "      <th>releasedate</th>\n",
       "      <th>language</th>\n",
       "      <th>stars</th>\n",
       "      <th>price</th>\n",
       "    </tr>\n",
       "  </thead>\n",
       "  <tbody>\n",
       "    <tr>\n",
       "      <th>0</th>\n",
       "      <td>Geronimo Stilton #11 &amp; #12</td>\n",
       "      <td>Writtenby:GeronimoStilton</td>\n",
       "      <td>Narratedby:BillLobely</td>\n",
       "      <td>2 hrs and 20 mins</td>\n",
       "      <td>04-08-08</td>\n",
       "      <td>English</td>\n",
       "      <td>5 out of 5 stars34 ratings</td>\n",
       "      <td>468.00</td>\n",
       "    </tr>\n",
       "    <tr>\n",
       "      <th>1</th>\n",
       "      <td>The Burning Maze</td>\n",
       "      <td>Writtenby:RickRiordan</td>\n",
       "      <td>Narratedby:RobbieDaymond</td>\n",
       "      <td>13 hrs and 8 mins</td>\n",
       "      <td>01-05-18</td>\n",
       "      <td>English</td>\n",
       "      <td>4.5 out of 5 stars41 ratings</td>\n",
       "      <td>820.00</td>\n",
       "    </tr>\n",
       "    <tr>\n",
       "      <th>2</th>\n",
       "      <td>The Deep End</td>\n",
       "      <td>Writtenby:JeffKinney</td>\n",
       "      <td>Narratedby:DanRussell</td>\n",
       "      <td>2 hrs and 3 mins</td>\n",
       "      <td>06-11-20</td>\n",
       "      <td>English</td>\n",
       "      <td>4.5 out of 5 stars38 ratings</td>\n",
       "      <td>410.00</td>\n",
       "    </tr>\n",
       "    <tr>\n",
       "      <th>3</th>\n",
       "      <td>Daughter of the Deep</td>\n",
       "      <td>Writtenby:RickRiordan</td>\n",
       "      <td>Narratedby:SoneelaNankani</td>\n",
       "      <td>11 hrs and 16 mins</td>\n",
       "      <td>05-10-21</td>\n",
       "      <td>English</td>\n",
       "      <td>4.5 out of 5 stars12 ratings</td>\n",
       "      <td>615.00</td>\n",
       "    </tr>\n",
       "    <tr>\n",
       "      <th>4</th>\n",
       "      <td>The Lightning Thief: Percy Jackson, Book 1</td>\n",
       "      <td>Writtenby:RickRiordan</td>\n",
       "      <td>Narratedby:JesseBernstein</td>\n",
       "      <td>10 hrs</td>\n",
       "      <td>13-01-10</td>\n",
       "      <td>English</td>\n",
       "      <td>4.5 out of 5 stars181 ratings</td>\n",
       "      <td>820.00</td>\n",
       "    </tr>\n",
       "    <tr>\n",
       "      <th>...</th>\n",
       "      <td>...</td>\n",
       "      <td>...</td>\n",
       "      <td>...</td>\n",
       "      <td>...</td>\n",
       "      <td>...</td>\n",
       "      <td>...</td>\n",
       "      <td>...</td>\n",
       "      <td>...</td>\n",
       "    </tr>\n",
       "    <tr>\n",
       "      <th>7823</th>\n",
       "      <td>Jeu d'évasion ou complot? [Escape Game or Cons...</td>\n",
       "      <td>Writtenby:CarolynChouinard</td>\n",
       "      <td>Narratedby:NicolasSavard-L'Herbier</td>\n",
       "      <td>2 hrs and 11 mins</td>\n",
       "      <td>30-03-22</td>\n",
       "      <td>french</td>\n",
       "      <td>Not rated yet</td>\n",
       "      <td>439.00</td>\n",
       "    </tr>\n",
       "    <tr>\n",
       "      <th>7824</th>\n",
       "      <td>Emotionen und andere Störfaktoren</td>\n",
       "      <td>Writtenby:KaiPannen</td>\n",
       "      <td>Narratedby:NilsKretschmer</td>\n",
       "      <td>2 hrs and 27 mins</td>\n",
       "      <td>01-04-22</td>\n",
       "      <td>german</td>\n",
       "      <td>Not rated yet</td>\n",
       "      <td>367.00</td>\n",
       "    </tr>\n",
       "    <tr>\n",
       "      <th>7825</th>\n",
       "      <td>Dampfloks gegen Dieselloks</td>\n",
       "      <td>Writtenby:Mattel,BurkardMiltenberger</td>\n",
       "      <td>Narratedby:MontyArnold</td>\n",
       "      <td>16 mins</td>\n",
       "      <td>30-03-22</td>\n",
       "      <td>german</td>\n",
       "      <td>Not rated yet</td>\n",
       "      <td>99.00</td>\n",
       "    </tr>\n",
       "    <tr>\n",
       "      <th>7826</th>\n",
       "      <td>Squad Goals</td>\n",
       "      <td>Writtenby:ErikaJ.Kendrick</td>\n",
       "      <td>Narratedby:JonieceAbbott-Pratt</td>\n",
       "      <td>6 hrs and 30 mins</td>\n",
       "      <td>29-03-22</td>\n",
       "      <td>English</td>\n",
       "      <td>Not rated yet</td>\n",
       "      <td>703.00</td>\n",
       "    </tr>\n",
       "    <tr>\n",
       "      <th>7827</th>\n",
       "      <td>You Are the Loveliest</td>\n",
       "      <td>Writtenby:HansHagen,MoniqueHagen</td>\n",
       "      <td>Narratedby:LauraKnightKeating</td>\n",
       "      <td>10 mins</td>\n",
       "      <td>29-03-</td>\n",
       "      <td>NaN</td>\n",
       "      <td>NaN</td>\n",
       "      <td>NaN</td>\n",
       "    </tr>\n",
       "  </tbody>\n",
       "</table>\n",
       "<p>7828 rows × 8 columns</p>\n",
       "</div>"
      ],
      "text/plain": [
       "                                                   name  \\\n",
       "0                            Geronimo Stilton #11 & #12   \n",
       "1                                      The Burning Maze   \n",
       "2                                          The Deep End   \n",
       "3                                  Daughter of the Deep   \n",
       "4            The Lightning Thief: Percy Jackson, Book 1   \n",
       "...                                                 ...   \n",
       "7823  Jeu d'évasion ou complot? [Escape Game or Cons...   \n",
       "7824                  Emotionen und andere Störfaktoren   \n",
       "7825                         Dampfloks gegen Dieselloks   \n",
       "7826                                        Squad Goals   \n",
       "7827                              You Are the Loveliest   \n",
       "\n",
       "                                    author  \\\n",
       "0                Writtenby:GeronimoStilton   \n",
       "1                    Writtenby:RickRiordan   \n",
       "2                     Writtenby:JeffKinney   \n",
       "3                    Writtenby:RickRiordan   \n",
       "4                    Writtenby:RickRiordan   \n",
       "...                                    ...   \n",
       "7823            Writtenby:CarolynChouinard   \n",
       "7824                   Writtenby:KaiPannen   \n",
       "7825  Writtenby:Mattel,BurkardMiltenberger   \n",
       "7826             Writtenby:ErikaJ.Kendrick   \n",
       "7827      Writtenby:HansHagen,MoniqueHagen   \n",
       "\n",
       "                                narrator                time releasedate  \\\n",
       "0                  Narratedby:BillLobely   2 hrs and 20 mins    04-08-08   \n",
       "1               Narratedby:RobbieDaymond   13 hrs and 8 mins    01-05-18   \n",
       "2                  Narratedby:DanRussell    2 hrs and 3 mins    06-11-20   \n",
       "3              Narratedby:SoneelaNankani  11 hrs and 16 mins    05-10-21   \n",
       "4              Narratedby:JesseBernstein              10 hrs    13-01-10   \n",
       "...                                  ...                 ...         ...   \n",
       "7823  Narratedby:NicolasSavard-L'Herbier   2 hrs and 11 mins    30-03-22   \n",
       "7824           Narratedby:NilsKretschmer   2 hrs and 27 mins    01-04-22   \n",
       "7825              Narratedby:MontyArnold             16 mins    30-03-22   \n",
       "7826      Narratedby:JonieceAbbott-Pratt   6 hrs and 30 mins    29-03-22   \n",
       "7827       Narratedby:LauraKnightKeating             10 mins      29-03-   \n",
       "\n",
       "     language                          stars   price  \n",
       "0     English     5 out of 5 stars34 ratings  468.00  \n",
       "1     English   4.5 out of 5 stars41 ratings  820.00  \n",
       "2     English   4.5 out of 5 stars38 ratings  410.00  \n",
       "3     English   4.5 out of 5 stars12 ratings  615.00  \n",
       "4     English  4.5 out of 5 stars181 ratings  820.00  \n",
       "...       ...                            ...     ...  \n",
       "7823   french                  Not rated yet  439.00  \n",
       "7824   german                  Not rated yet  367.00  \n",
       "7825   german                  Not rated yet   99.00  \n",
       "7826  English                  Not rated yet  703.00  \n",
       "7827      NaN                            NaN     NaN  \n",
       "\n",
       "[7828 rows x 8 columns]"
      ]
     },
     "execution_count": 4,
     "metadata": {},
     "output_type": "execute_result"
    }
   ],
   "source": [
    "df"
   ]
  },
  {
   "cell_type": "code",
   "execution_count": 5,
   "id": "89e4d6a6-c47a-439f-a976-5a7fecf8e0d7",
   "metadata": {},
   "outputs": [
    {
     "name": "stdout",
     "output_type": "stream",
     "text": [
      "<class 'pandas.core.frame.DataFrame'>\n",
      "RangeIndex: 7828 entries, 0 to 7827\n",
      "Data columns (total 8 columns):\n",
      " #   Column       Non-Null Count  Dtype \n",
      "---  ------       --------------  ----- \n",
      " 0   name         7828 non-null   object\n",
      " 1   author       7828 non-null   object\n",
      " 2   narrator     7828 non-null   object\n",
      " 3   time         7828 non-null   object\n",
      " 4   releasedate  7828 non-null   object\n",
      " 5   language     7827 non-null   object\n",
      " 6   stars        7827 non-null   object\n",
      " 7   price        7827 non-null   object\n",
      "dtypes: object(8)\n",
      "memory usage: 489.4+ KB\n"
     ]
    }
   ],
   "source": [
    "df.info()"
   ]
  },
  {
   "cell_type": "markdown",
   "id": "331df8a2-155c-48a7-8ebd-2a0004eabd6a",
   "metadata": {},
   "source": [
    "### Duplicate check and missing data check"
   ]
  },
  {
   "cell_type": "code",
   "execution_count": 6,
   "id": "8a6b7f9d-9ec9-40ae-b7f4-2715db87016c",
   "metadata": {},
   "outputs": [
    {
     "data": {
      "text/plain": [
       "0"
      ]
     },
     "execution_count": 6,
     "metadata": {},
     "output_type": "execute_result"
    }
   ],
   "source": [
    "df.duplicated().sum()"
   ]
  },
  {
   "cell_type": "code",
   "execution_count": 7,
   "id": "fac98cd2-64e4-4745-abce-95fa9d3594da",
   "metadata": {},
   "outputs": [
    {
     "data": {
      "text/plain": [
       "3"
      ]
     },
     "execution_count": 7,
     "metadata": {},
     "output_type": "execute_result"
    }
   ],
   "source": [
    "df.isnull().sum().sum()"
   ]
  },
  {
   "cell_type": "markdown",
   "id": "d78697ea-8b8d-4685-9cfb-8f75e9c023ca",
   "metadata": {},
   "source": [
    "### All columns will have to be converted to proper data types (numeric, date, etc)."
   ]
  },
  {
   "cell_type": "markdown",
   "id": "7bac30d1-6d8e-4f97-8a53-eae3cc67f37e",
   "metadata": {},
   "source": [
    "#### Entry 'You Are the Loveliest' has missing data."
   ]
  },
  {
   "cell_type": "markdown",
   "id": "0221e741-00b3-4349-8e0b-7042ff341b65",
   "metadata": {},
   "source": [
    "### The stars column will have to be split to make a new column of numeric type for number of ratings.\n",
    "### The original star column will be transformed to only contain the star rating."
   ]
  },
  {
   "cell_type": "markdown",
   "id": "ff8285c8-f7c3-4179-8a6f-503141174599",
   "metadata": {},
   "source": [
    "# Fill in the missing data from Audible.com"
   ]
  },
  {
   "cell_type": "code",
   "execution_count": 8,
   "id": "a4a54527-7286-40f6-a0e2-075ec00d41ac",
   "metadata": {},
   "outputs": [],
   "source": [
    "df.at[7827,'price'] = '687'"
   ]
  },
  {
   "cell_type": "code",
   "execution_count": 9,
   "id": "36390db2-8a79-4c7d-bf03-35c1706f62bd",
   "metadata": {},
   "outputs": [],
   "source": [
    "df.at[7827,'stars'] = 'Not rated yet'"
   ]
  },
  {
   "cell_type": "code",
   "execution_count": 10,
   "id": "947881d0-f199-44d0-a81d-ace832f9b772",
   "metadata": {},
   "outputs": [],
   "source": [
    "df.at[7827,'language'] = 'English'"
   ]
  },
  {
   "cell_type": "code",
   "execution_count": 11,
   "id": "af1b066d-305a-4188-92a5-ca4db68241b6",
   "metadata": {},
   "outputs": [],
   "source": [
    "df.at[7827,'releasedate'] = '29-03-22'"
   ]
  },
  {
   "cell_type": "markdown",
   "id": "155b8aae-dbba-4d99-a8cf-64cb262d6a92",
   "metadata": {},
   "source": [
    "# Convert price column to integer data type"
   ]
  },
  {
   "cell_type": "code",
   "execution_count": 12,
   "id": "2ae93152-1729-4e13-bf0a-07a31ebf22e9",
   "metadata": {},
   "outputs": [],
   "source": [
    "df['price'] = pd.to_numeric(df['price'], errors='coerce').fillna(0).astype(np.int32)"
   ]
  },
  {
   "cell_type": "code",
   "execution_count": 13,
   "id": "eabeded8-2c8e-4346-87d3-3ad0c5f7e749",
   "metadata": {},
   "outputs": [
    {
     "data": {
      "text/plain": [
       "0    468\n",
       "1    820\n",
       "2    410\n",
       "3    615\n",
       "4    820\n",
       "Name: price, dtype: int32"
      ]
     },
     "execution_count": 13,
     "metadata": {},
     "output_type": "execute_result"
    }
   ],
   "source": [
    "df['price'].head()"
   ]
  },
  {
   "cell_type": "markdown",
   "id": "3a841a82-30d0-4e02-8fef-263e609f0ae3",
   "metadata": {},
   "source": [
    "# Create new column 'ratings' using data from stars column"
   ]
  },
  {
   "cell_type": "code",
   "execution_count": 14,
   "id": "981466e5-a354-4cff-a5b8-41c0b6e67eaf",
   "metadata": {},
   "outputs": [],
   "source": [
    "df['ratings'] = df['stars'].str.split(\" \").str.get(-2).str.replace('stars', \" \")"
   ]
  },
  {
   "cell_type": "code",
   "execution_count": 15,
   "id": "194e5451-ff33-4947-a565-6c6a41ea23c1",
   "metadata": {},
   "outputs": [],
   "source": [
    "df['ratings'] = pd.to_numeric(df['ratings'], errors='coerce').fillna(0).astype(np.int32)"
   ]
  },
  {
   "cell_type": "code",
   "execution_count": 16,
   "id": "99e2a05f-57b0-4555-aa86-73d06b313185",
   "metadata": {},
   "outputs": [
    {
     "data": {
      "text/plain": [
       "0        34\n",
       "1        41\n",
       "2        38\n",
       "3        12\n",
       "4       181\n",
       "       ... \n",
       "7823      0\n",
       "7824      0\n",
       "7825      0\n",
       "7826      0\n",
       "7827      0\n",
       "Name: ratings, Length: 7828, dtype: int32"
      ]
     },
     "execution_count": 16,
     "metadata": {},
     "output_type": "execute_result"
    }
   ],
   "source": [
    "df['ratings']"
   ]
  },
  {
   "cell_type": "markdown",
   "id": "254818ab-1629-4eee-aff1-87140ca8efa3",
   "metadata": {},
   "source": [
    "# This method also works for 'stars'"
   ]
  },
  {
   "cell_type": "code",
   "execution_count": 17,
   "id": "2a14bc70-ae35-4567-9cf2-180c3837de86",
   "metadata": {},
   "outputs": [],
   "source": [
    "df['stars'] = df['stars'].str.split(\" \").str.get(0)"
   ]
  },
  {
   "cell_type": "code",
   "execution_count": 18,
   "id": "c4c0347d-fcf9-4f5e-b6b9-374514072e13",
   "metadata": {},
   "outputs": [],
   "source": [
    "df['stars'] = pd.to_numeric(df['stars'], errors='coerce').fillna(0).astype(np.float32)"
   ]
  },
  {
   "cell_type": "code",
   "execution_count": 19,
   "id": "23cc32d2-082b-4e52-9c59-94ad81d05755",
   "metadata": {},
   "outputs": [
    {
     "data": {
      "text/plain": [
       "0       5.0\n",
       "1       4.5\n",
       "2       4.5\n",
       "3       4.5\n",
       "4       4.5\n",
       "       ... \n",
       "7823    0.0\n",
       "7824    0.0\n",
       "7825    0.0\n",
       "7826    0.0\n",
       "7827    0.0\n",
       "Name: stars, Length: 7828, dtype: float32"
      ]
     },
     "execution_count": 19,
     "metadata": {},
     "output_type": "execute_result"
    }
   ],
   "source": [
    "df['stars'] "
   ]
  },
  {
   "cell_type": "code",
   "execution_count": 20,
   "id": "765d63f1-e41d-43b8-9a2a-5f9373397c52",
   "metadata": {},
   "outputs": [
    {
     "data": {
      "text/plain": [
       "0    2 hrs and 20 mins\n",
       "Name: time, dtype: object"
      ]
     },
     "execution_count": 20,
     "metadata": {},
     "output_type": "execute_result"
    }
   ],
   "source": [
    "df['time'].head(1)"
   ]
  },
  {
   "cell_type": "markdown",
   "id": "f7bf0429-d56c-46ad-975c-3ca5c830ee75",
   "metadata": {},
   "source": [
    "# Time column will be split into two temporary columns and combined"
   ]
  },
  {
   "cell_type": "code",
   "execution_count": 21,
   "id": "dd2dbc2d-4773-4c99-8a06-b863878ae8f2",
   "metadata": {},
   "outputs": [
    {
     "data": {
      "text/html": [
       "<div>\n",
       "<style scoped>\n",
       "    .dataframe tbody tr th:only-of-type {\n",
       "        vertical-align: middle;\n",
       "    }\n",
       "\n",
       "    .dataframe tbody tr th {\n",
       "        vertical-align: top;\n",
       "    }\n",
       "\n",
       "    .dataframe thead th {\n",
       "        text-align: right;\n",
       "    }\n",
       "</style>\n",
       "<table border=\"1\" class=\"dataframe\">\n",
       "  <thead>\n",
       "    <tr style=\"text-align: right;\">\n",
       "      <th></th>\n",
       "      <th>0</th>\n",
       "    </tr>\n",
       "  </thead>\n",
       "  <tbody>\n",
       "    <tr>\n",
       "      <th>0</th>\n",
       "      <td>120</td>\n",
       "    </tr>\n",
       "    <tr>\n",
       "      <th>1</th>\n",
       "      <td>780</td>\n",
       "    </tr>\n",
       "    <tr>\n",
       "      <th>2</th>\n",
       "      <td>120</td>\n",
       "    </tr>\n",
       "  </tbody>\n",
       "</table>\n",
       "</div>"
      ],
      "text/plain": [
       "     0\n",
       "0  120\n",
       "1  780\n",
       "2  120"
      ]
     },
     "execution_count": 21,
     "metadata": {},
     "output_type": "execute_result"
    }
   ],
   "source": [
    "hrs = df['time'].str.extract(r'(\\d+(?= h.))').fillna(0).astype(np.int32) * 60\n",
    "hrs.head(3)"
   ]
  },
  {
   "cell_type": "code",
   "execution_count": 22,
   "id": "9111d473-87d0-48fc-ae02-7a3c8973cd5c",
   "metadata": {},
   "outputs": [
    {
     "data": {
      "text/html": [
       "<div>\n",
       "<style scoped>\n",
       "    .dataframe tbody tr th:only-of-type {\n",
       "        vertical-align: middle;\n",
       "    }\n",
       "\n",
       "    .dataframe tbody tr th {\n",
       "        vertical-align: top;\n",
       "    }\n",
       "\n",
       "    .dataframe thead th {\n",
       "        text-align: right;\n",
       "    }\n",
       "</style>\n",
       "<table border=\"1\" class=\"dataframe\">\n",
       "  <thead>\n",
       "    <tr style=\"text-align: right;\">\n",
       "      <th></th>\n",
       "      <th>0</th>\n",
       "    </tr>\n",
       "  </thead>\n",
       "  <tbody>\n",
       "    <tr>\n",
       "      <th>0</th>\n",
       "      <td>20</td>\n",
       "    </tr>\n",
       "    <tr>\n",
       "      <th>1</th>\n",
       "      <td>8</td>\n",
       "    </tr>\n",
       "    <tr>\n",
       "      <th>2</th>\n",
       "      <td>3</td>\n",
       "    </tr>\n",
       "  </tbody>\n",
       "</table>\n",
       "</div>"
      ],
      "text/plain": [
       "    0\n",
       "0  20\n",
       "1   8\n",
       "2   3"
      ]
     },
     "execution_count": 22,
     "metadata": {},
     "output_type": "execute_result"
    }
   ],
   "source": [
    "mins = df['time'].str.extract(r'(\\d+(?= mi.))').fillna(0).astype(np.int32)\n",
    "mins.head(3)"
   ]
  },
  {
   "cell_type": "code",
   "execution_count": 23,
   "id": "b83889ee-d1ec-4ccf-9017-d6e44ffed018",
   "metadata": {},
   "outputs": [
    {
     "data": {
      "text/plain": [
       "0    140\n",
       "1    788\n",
       "2    123\n",
       "Name: time, dtype: int32"
      ]
     },
     "execution_count": 23,
     "metadata": {},
     "output_type": "execute_result"
    }
   ],
   "source": [
    "df['time'] = hrs + mins\n",
    "df['time'].head(3)"
   ]
  },
  {
   "cell_type": "markdown",
   "id": "8a7ca83a-56b6-456f-93d6-19e1f8bbef4f",
   "metadata": {},
   "source": [
    "# Remove written and narrated by from author and narrator via replace"
   ]
  },
  {
   "cell_type": "code",
   "execution_count": 24,
   "id": "f38218e8-bfa1-422a-818b-ef7de67d4bfb",
   "metadata": {},
   "outputs": [],
   "source": [
    "df['narrator'] = df['narrator'].str.replace('Narratedby:', '')"
   ]
  },
  {
   "cell_type": "code",
   "execution_count": 25,
   "id": "34da4825-ee2e-4121-87d2-3e937c367261",
   "metadata": {},
   "outputs": [],
   "source": [
    "df['author'] = df['author'].str.replace('Writtenby:', '')"
   ]
  },
  {
   "cell_type": "markdown",
   "id": "c70ed69d-8ce3-4277-93c3-65fea9abb56f",
   "metadata": {},
   "source": [
    "### Male author and narrator columns more readable"
   ]
  },
  {
   "cell_type": "code",
   "execution_count": 26,
   "id": "9d2f0860-f396-45e2-b258-bcebc1e2a070",
   "metadata": {},
   "outputs": [
    {
     "data": {
      "text/html": [
       "<div>\n",
       "<style scoped>\n",
       "    .dataframe tbody tr th:only-of-type {\n",
       "        vertical-align: middle;\n",
       "    }\n",
       "\n",
       "    .dataframe tbody tr th {\n",
       "        vertical-align: top;\n",
       "    }\n",
       "\n",
       "    .dataframe thead th {\n",
       "        text-align: right;\n",
       "    }\n",
       "</style>\n",
       "<table border=\"1\" class=\"dataframe\">\n",
       "  <thead>\n",
       "    <tr style=\"text-align: right;\">\n",
       "      <th></th>\n",
       "      <th>name</th>\n",
       "      <th>author</th>\n",
       "      <th>narrator</th>\n",
       "      <th>time</th>\n",
       "      <th>releasedate</th>\n",
       "      <th>language</th>\n",
       "      <th>stars</th>\n",
       "      <th>price</th>\n",
       "      <th>ratings</th>\n",
       "    </tr>\n",
       "  </thead>\n",
       "  <tbody>\n",
       "    <tr>\n",
       "      <th>0</th>\n",
       "      <td>Geronimo Stilton #11 &amp; #12</td>\n",
       "      <td>Geronimo_Stilton</td>\n",
       "      <td>Bill_Lobely</td>\n",
       "      <td>140</td>\n",
       "      <td>04-08-08</td>\n",
       "      <td>English</td>\n",
       "      <td>5.0</td>\n",
       "      <td>468</td>\n",
       "      <td>34</td>\n",
       "    </tr>\n",
       "    <tr>\n",
       "      <th>1</th>\n",
       "      <td>The Burning Maze</td>\n",
       "      <td>Rick_Riordan</td>\n",
       "      <td>Robbie_Daymond</td>\n",
       "      <td>788</td>\n",
       "      <td>01-05-18</td>\n",
       "      <td>English</td>\n",
       "      <td>4.5</td>\n",
       "      <td>820</td>\n",
       "      <td>41</td>\n",
       "    </tr>\n",
       "    <tr>\n",
       "      <th>2</th>\n",
       "      <td>The Deep End</td>\n",
       "      <td>Jeff_Kinney</td>\n",
       "      <td>Dan_Russell</td>\n",
       "      <td>123</td>\n",
       "      <td>06-11-20</td>\n",
       "      <td>English</td>\n",
       "      <td>4.5</td>\n",
       "      <td>410</td>\n",
       "      <td>38</td>\n",
       "    </tr>\n",
       "    <tr>\n",
       "      <th>3</th>\n",
       "      <td>Daughter of the Deep</td>\n",
       "      <td>Rick_Riordan</td>\n",
       "      <td>Soneela_Nankani</td>\n",
       "      <td>676</td>\n",
       "      <td>05-10-21</td>\n",
       "      <td>English</td>\n",
       "      <td>4.5</td>\n",
       "      <td>615</td>\n",
       "      <td>12</td>\n",
       "    </tr>\n",
       "    <tr>\n",
       "      <th>4</th>\n",
       "      <td>The Lightning Thief: Percy Jackson, Book 1</td>\n",
       "      <td>Rick_Riordan</td>\n",
       "      <td>Jesse_Bernstein</td>\n",
       "      <td>600</td>\n",
       "      <td>13-01-10</td>\n",
       "      <td>English</td>\n",
       "      <td>4.5</td>\n",
       "      <td>820</td>\n",
       "      <td>181</td>\n",
       "    </tr>\n",
       "  </tbody>\n",
       "</table>\n",
       "</div>"
      ],
      "text/plain": [
       "                                         name            author  \\\n",
       "0                  Geronimo Stilton #11 & #12  Geronimo_Stilton   \n",
       "1                            The Burning Maze      Rick_Riordan   \n",
       "2                                The Deep End       Jeff_Kinney   \n",
       "3                        Daughter of the Deep      Rick_Riordan   \n",
       "4  The Lightning Thief: Percy Jackson, Book 1      Rick_Riordan   \n",
       "\n",
       "          narrator  time releasedate language  stars  price  ratings  \n",
       "0      Bill_Lobely   140    04-08-08  English    5.0    468       34  \n",
       "1   Robbie_Daymond   788    01-05-18  English    4.5    820       41  \n",
       "2      Dan_Russell   123    06-11-20  English    4.5    410       38  \n",
       "3  Soneela_Nankani   676    05-10-21  English    4.5    615       12  \n",
       "4  Jesse_Bernstein   600    13-01-10  English    4.5    820      181  "
      ]
     },
     "execution_count": 26,
     "metadata": {},
     "output_type": "execute_result"
    }
   ],
   "source": [
    "df['author'] = df['author'].str.replace(r'([a-z])([A-Z])', r'\\1_\\2',regex=True)\n",
    "df['narrator'] = df['narrator'].str.replace(r'([a-z])([A-Z])', r'\\1_\\2',regex=True)\n",
    "df.head()"
   ]
  },
  {
   "cell_type": "markdown",
   "id": "a7c0001d-a24a-4fff-a3a9-bf1c9649eaea",
   "metadata": {},
   "source": [
    "### Convert remaining columns to proper data types"
   ]
  },
  {
   "cell_type": "code",
   "execution_count": 27,
   "id": "a22cbf9e-0acd-40dc-90d3-18a521376230",
   "metadata": {},
   "outputs": [],
   "source": [
    "df['price'] = pd.to_numeric(df['price'].astype(np.int32))\n",
    "df['stars'] = pd.to_numeric(df['stars'].astype(np.float32))\n",
    "df['language'] =  df['language'].astype('string')\n",
    "df['releasedate'] = pd.to_datetime(df['releasedate'], format='%d-%m-%y')\n",
    "df['narrator'] =  df['narrator'].astype('string')\n",
    "df['author'] =  df['author'].astype('string')\n",
    "df['name'] =  df['name'].astype('string')"
   ]
  },
  {
   "cell_type": "code",
   "execution_count": 28,
   "id": "e9a1942e-80b0-4332-b8b0-19dab9883844",
   "metadata": {},
   "outputs": [
    {
     "name": "stdout",
     "output_type": "stream",
     "text": [
      "<class 'pandas.core.frame.DataFrame'>\n",
      "RangeIndex: 7828 entries, 0 to 7827\n",
      "Data columns (total 9 columns):\n",
      " #   Column       Non-Null Count  Dtype         \n",
      "---  ------       --------------  -----         \n",
      " 0   name         7828 non-null   string        \n",
      " 1   author       7828 non-null   string        \n",
      " 2   narrator     7828 non-null   string        \n",
      " 3   time         7828 non-null   int32         \n",
      " 4   releasedate  7828 non-null   datetime64[ns]\n",
      " 5   language     7828 non-null   string        \n",
      " 6   stars        7828 non-null   float32       \n",
      " 7   price        7828 non-null   int32         \n",
      " 8   ratings      7828 non-null   int32         \n",
      "dtypes: datetime64[ns](1), float32(1), int32(3), string(4)\n",
      "memory usage: 428.2 KB\n"
     ]
    }
   ],
   "source": [
    "df.info()"
   ]
  },
  {
   "cell_type": "code",
   "execution_count": 29,
   "id": "3161002c-854f-4f53-99c2-be2f4f44dd7d",
   "metadata": {},
   "outputs": [
    {
     "data": {
      "text/html": [
       "<div>\n",
       "<style scoped>\n",
       "    .dataframe tbody tr th:only-of-type {\n",
       "        vertical-align: middle;\n",
       "    }\n",
       "\n",
       "    .dataframe tbody tr th {\n",
       "        vertical-align: top;\n",
       "    }\n",
       "\n",
       "    .dataframe thead th {\n",
       "        text-align: right;\n",
       "    }\n",
       "</style>\n",
       "<table border=\"1\" class=\"dataframe\">\n",
       "  <thead>\n",
       "    <tr style=\"text-align: right;\">\n",
       "      <th></th>\n",
       "      <th>name</th>\n",
       "      <th>author</th>\n",
       "      <th>narrator</th>\n",
       "      <th>time</th>\n",
       "      <th>releasedate</th>\n",
       "      <th>language</th>\n",
       "      <th>stars</th>\n",
       "      <th>price</th>\n",
       "      <th>ratings</th>\n",
       "    </tr>\n",
       "  </thead>\n",
       "  <tbody>\n",
       "    <tr>\n",
       "      <th>0</th>\n",
       "      <td>Geronimo Stilton #11 &amp; #12</td>\n",
       "      <td>Geronimo_Stilton</td>\n",
       "      <td>Bill_Lobely</td>\n",
       "      <td>140</td>\n",
       "      <td>2008-08-04</td>\n",
       "      <td>English</td>\n",
       "      <td>5.0</td>\n",
       "      <td>468</td>\n",
       "      <td>34</td>\n",
       "    </tr>\n",
       "    <tr>\n",
       "      <th>1</th>\n",
       "      <td>The Burning Maze</td>\n",
       "      <td>Rick_Riordan</td>\n",
       "      <td>Robbie_Daymond</td>\n",
       "      <td>788</td>\n",
       "      <td>2018-05-01</td>\n",
       "      <td>English</td>\n",
       "      <td>4.5</td>\n",
       "      <td>820</td>\n",
       "      <td>41</td>\n",
       "    </tr>\n",
       "    <tr>\n",
       "      <th>2</th>\n",
       "      <td>The Deep End</td>\n",
       "      <td>Jeff_Kinney</td>\n",
       "      <td>Dan_Russell</td>\n",
       "      <td>123</td>\n",
       "      <td>2020-11-06</td>\n",
       "      <td>English</td>\n",
       "      <td>4.5</td>\n",
       "      <td>410</td>\n",
       "      <td>38</td>\n",
       "    </tr>\n",
       "    <tr>\n",
       "      <th>3</th>\n",
       "      <td>Daughter of the Deep</td>\n",
       "      <td>Rick_Riordan</td>\n",
       "      <td>Soneela_Nankani</td>\n",
       "      <td>676</td>\n",
       "      <td>2021-10-05</td>\n",
       "      <td>English</td>\n",
       "      <td>4.5</td>\n",
       "      <td>615</td>\n",
       "      <td>12</td>\n",
       "    </tr>\n",
       "    <tr>\n",
       "      <th>4</th>\n",
       "      <td>The Lightning Thief: Percy Jackson, Book 1</td>\n",
       "      <td>Rick_Riordan</td>\n",
       "      <td>Jesse_Bernstein</td>\n",
       "      <td>600</td>\n",
       "      <td>2010-01-13</td>\n",
       "      <td>English</td>\n",
       "      <td>4.5</td>\n",
       "      <td>820</td>\n",
       "      <td>181</td>\n",
       "    </tr>\n",
       "    <tr>\n",
       "      <th>...</th>\n",
       "      <td>...</td>\n",
       "      <td>...</td>\n",
       "      <td>...</td>\n",
       "      <td>...</td>\n",
       "      <td>...</td>\n",
       "      <td>...</td>\n",
       "      <td>...</td>\n",
       "      <td>...</td>\n",
       "      <td>...</td>\n",
       "    </tr>\n",
       "    <tr>\n",
       "      <th>7823</th>\n",
       "      <td>Jeu d'évasion ou complot? [Escape Game or Cons...</td>\n",
       "      <td>Carolyn_Chouinard</td>\n",
       "      <td>Nicolas_Savard-L'Herbier</td>\n",
       "      <td>131</td>\n",
       "      <td>2022-03-30</td>\n",
       "      <td>french</td>\n",
       "      <td>0.0</td>\n",
       "      <td>439</td>\n",
       "      <td>0</td>\n",
       "    </tr>\n",
       "    <tr>\n",
       "      <th>7824</th>\n",
       "      <td>Emotionen und andere Störfaktoren</td>\n",
       "      <td>Kai_Pannen</td>\n",
       "      <td>Nils_Kretschmer</td>\n",
       "      <td>147</td>\n",
       "      <td>2022-04-01</td>\n",
       "      <td>german</td>\n",
       "      <td>0.0</td>\n",
       "      <td>367</td>\n",
       "      <td>0</td>\n",
       "    </tr>\n",
       "    <tr>\n",
       "      <th>7825</th>\n",
       "      <td>Dampfloks gegen Dieselloks</td>\n",
       "      <td>Mattel,Burkard_Miltenberger</td>\n",
       "      <td>Monty_Arnold</td>\n",
       "      <td>16</td>\n",
       "      <td>2022-03-30</td>\n",
       "      <td>german</td>\n",
       "      <td>0.0</td>\n",
       "      <td>99</td>\n",
       "      <td>0</td>\n",
       "    </tr>\n",
       "    <tr>\n",
       "      <th>7826</th>\n",
       "      <td>Squad Goals</td>\n",
       "      <td>Erika_J.Kendrick</td>\n",
       "      <td>Joniece_Abbott-Pratt</td>\n",
       "      <td>390</td>\n",
       "      <td>2022-03-29</td>\n",
       "      <td>English</td>\n",
       "      <td>0.0</td>\n",
       "      <td>703</td>\n",
       "      <td>0</td>\n",
       "    </tr>\n",
       "    <tr>\n",
       "      <th>7827</th>\n",
       "      <td>You Are the Loveliest</td>\n",
       "      <td>Hans_Hagen,Monique_Hagen</td>\n",
       "      <td>Laura_Knight_Keating</td>\n",
       "      <td>10</td>\n",
       "      <td>2022-03-29</td>\n",
       "      <td>English</td>\n",
       "      <td>0.0</td>\n",
       "      <td>687</td>\n",
       "      <td>0</td>\n",
       "    </tr>\n",
       "  </tbody>\n",
       "</table>\n",
       "<p>7828 rows × 9 columns</p>\n",
       "</div>"
      ],
      "text/plain": [
       "                                                   name  \\\n",
       "0                            Geronimo Stilton #11 & #12   \n",
       "1                                      The Burning Maze   \n",
       "2                                          The Deep End   \n",
       "3                                  Daughter of the Deep   \n",
       "4            The Lightning Thief: Percy Jackson, Book 1   \n",
       "...                                                 ...   \n",
       "7823  Jeu d'évasion ou complot? [Escape Game or Cons...   \n",
       "7824                  Emotionen und andere Störfaktoren   \n",
       "7825                         Dampfloks gegen Dieselloks   \n",
       "7826                                        Squad Goals   \n",
       "7827                              You Are the Loveliest   \n",
       "\n",
       "                           author                  narrator  time releasedate  \\\n",
       "0                Geronimo_Stilton               Bill_Lobely   140  2008-08-04   \n",
       "1                    Rick_Riordan            Robbie_Daymond   788  2018-05-01   \n",
       "2                     Jeff_Kinney               Dan_Russell   123  2020-11-06   \n",
       "3                    Rick_Riordan           Soneela_Nankani   676  2021-10-05   \n",
       "4                    Rick_Riordan           Jesse_Bernstein   600  2010-01-13   \n",
       "...                           ...                       ...   ...         ...   \n",
       "7823            Carolyn_Chouinard  Nicolas_Savard-L'Herbier   131  2022-03-30   \n",
       "7824                   Kai_Pannen           Nils_Kretschmer   147  2022-04-01   \n",
       "7825  Mattel,Burkard_Miltenberger              Monty_Arnold    16  2022-03-30   \n",
       "7826             Erika_J.Kendrick      Joniece_Abbott-Pratt   390  2022-03-29   \n",
       "7827     Hans_Hagen,Monique_Hagen      Laura_Knight_Keating    10  2022-03-29   \n",
       "\n",
       "     language  stars  price  ratings  \n",
       "0     English    5.0    468       34  \n",
       "1     English    4.5    820       41  \n",
       "2     English    4.5    410       38  \n",
       "3     English    4.5    615       12  \n",
       "4     English    4.5    820      181  \n",
       "...       ...    ...    ...      ...  \n",
       "7823   french    0.0    439        0  \n",
       "7824   german    0.0    367        0  \n",
       "7825   german    0.0     99        0  \n",
       "7826  English    0.0    703        0  \n",
       "7827  English    0.0    687        0  \n",
       "\n",
       "[7828 rows x 9 columns]"
      ]
     },
     "execution_count": 29,
     "metadata": {},
     "output_type": "execute_result"
    }
   ],
   "source": [
    "df"
   ]
  }
 ],
 "metadata": {
  "kernelspec": {
   "display_name": "Python 3 (ipykernel)",
   "language": "python",
   "name": "python3"
  },
  "language_info": {
   "codemirror_mode": {
    "name": "ipython",
    "version": 3
   },
   "file_extension": ".py",
   "mimetype": "text/x-python",
   "name": "python",
   "nbconvert_exporter": "python",
   "pygments_lexer": "ipython3",
   "version": "3.12.3"
  }
 },
 "nbformat": 4,
 "nbformat_minor": 5
}
